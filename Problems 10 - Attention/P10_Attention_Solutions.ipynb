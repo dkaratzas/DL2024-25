{
  "cells": [
    {
      "cell_type": "markdown",
      "metadata": {
        "id": "-JGr-h1xvTOZ"
      },
      "source": [
        "# MNIST Simple Pointer Network\n",
        "\n",
        "In this notebook we will learn how to create a simple [Pointer Network](https://arxiv.org/abs/1506.03134) (Vinyals et al. 2015) for solving a dummy task on the MNIST dataset.\n",
        "\n",
        "A Pointer Network uses the **attention mechanism’s** output to model the conditional probability of each element on its input. This can be extremely useful in tasks that require selecting one (or more) elements of the input sequence/set to be solved.\n",
        "\n",
        "In this notebook we will play with a simple Pointer net to solve the following task: Given an MNIST image with a (query) digit we want our model to find the image that contains the consecutive digit to the query image among a set of input images. For example, imagine we use an image with the digit \"5\" as query and let the input of the model be a set of 10 images with different digits, the output of our model must be a probability distribution over those 10 images indicating the presence or not of the digit \"6\" in each of them."
      ]
    },
    {
      "cell_type": "code",
      "execution_count": 1,
      "metadata": {
        "colab": {
          "base_uri": "https://localhost:8080/"
        },
        "id": "h4Z7-Wm7_5K6",
        "outputId": "ab404b06-5cdf-4619-e205-70d7f1f7dfef"
      },
      "outputs": [
        {
          "output_type": "stream",
          "name": "stdout",
          "text": [
            "PyTorch Version:  2.6.0+cu124\n"
          ]
        }
      ],
      "source": [
        "import torch\n",
        "import torchvision\n",
        "import torch.nn as nn\n",
        "import torch.optim as optim\n",
        "import numpy as np\n",
        "from torch.utils.data import Dataset, DataLoader\n",
        "\n",
        "import matplotlib.pyplot as plt\n",
        "from collections import Counter\n",
        "import time\n",
        "import os\n",
        "import copy\n",
        "print(\"PyTorch Version: \",torch.__version__)"
      ]
    },
    {
      "cell_type": "code",
      "execution_count": 2,
      "metadata": {
        "id": "RNJh2q4lQGYF",
        "colab": {
          "base_uri": "https://localhost:8080/"
        },
        "outputId": "63a657ed-9045-4a50-d125-472aba3fb4db"
      },
      "outputs": [
        {
          "output_type": "stream",
          "name": "stdout",
          "text": [
            "Using device: cuda\n"
          ]
        }
      ],
      "source": [
        "#If this cell fails you need to change the runtime of your colab notebook to GPU\n",
        "# Go to Runtime -> Change Runtime Type and select GPU\n",
        "assert torch.cuda.is_available(), \"GPU is not enabled\"\n",
        "\n",
        "#  use gpu if available\n",
        "device = torch.device(\"cuda\" if torch.cuda.is_available() else \"cpu\")\n",
        "print(\"Using device:\", device)"
      ]
    },
    {
      "cell_type": "markdown",
      "metadata": {
        "id": "CyM0DXter9Mp"
      },
      "source": [
        "### Create the dataset\n",
        "\n",
        "Let's start creating a Dataset class to understand better the task we want to solve. Each sample in our dataset will be formed by:\n",
        "\n",
        "* a query image\n",
        "* a set of 10 images, 9 of them selected randomly (distractors) and one selected as the consecutive digit of the digit in the query image.\n",
        "* the ground truth: a 10-D one hot vector indicating the position of the image we want our model to select (\"point to\")."
      ]
    },
    {
      "cell_type": "code",
      "execution_count": 3,
      "metadata": {
        "id": "XksdVS7GHWw0"
      },
      "outputs": [],
      "source": [
        "class MNISTAttentionDataset(Dataset):\n",
        "    \"\"\"MNIST attention toy dataset.\"\"\"\n",
        "\n",
        "    def __init__(self, num_inputs, train=True):\n",
        "        \"\"\"\n",
        "        Args:\n",
        "            num_inputs (int) - The number of images in the input of our model.\n",
        "            train (bool, optional) – If True, creates dataset from MNIST training\n",
        "                samples, otherwise from test\n",
        "        \"\"\"\n",
        "\n",
        "        self.num_inputs = num_inputs\n",
        "        self.mnist = torchvision.datasets.MNIST('../data', train=train, download=True)\n",
        "\n",
        "        # dict with samples for each class label\n",
        "        self.data = {}\n",
        "        for label in range(10):\n",
        "            #Collect in separate lists the different digits, and normalise values to [0, 1]\n",
        "            self.data[label] = self.mnist.data[self.mnist.targets == label] / 255.0\n",
        "\n",
        "\n",
        "\n",
        "    def __len__(self):\n",
        "        # The length makes little sense here, as we generate samples dynamically\n",
        "        # Here we return the number of images originally in the dataset\n",
        "        return self.mnist.data.shape[0]\n",
        "\n",
        "    def __getitem__(self, idx):\n",
        "        \"\"\"\n",
        "        Args:\n",
        "            idx (int) - an index indicating which digit should be used as query\n",
        "        \"\"\"\n",
        "        c = self.mnist.targets[idx].item()     # Find out which is the class of the digit requested\n",
        "        query = self.mnist.data[idx].flatten() / 255.0 # Get the data for the digit requested\n",
        "\n",
        "        correct_pos = np.random.randint(0, self.num_inputs) # Decide on a random position where the correct answer will be\n",
        "\n",
        "        inputs = np.zeros((self.num_inputs, 784)) # Create an array to hold the inputs (from which we have to select one)\n",
        "        for j in range(self.num_inputs):\n",
        "            if j == correct_pos: # In the correct position, place a random digit that comes from the c+1 class\n",
        "                idx = np.random.randint(0,self.data[(c+1)%10].shape[0])\n",
        "                inputs[j,:] = self.data[(c+1)%10][idx,:].flatten()\n",
        "            else: # In the rest of the positions, place random digits that come from the rest of the classes\n",
        "                c_distractor = np.random.choice([n for n in [0,1,2,3,4,5,6,7,8,9] if n!=(c+1)%10])\n",
        "                idx = np.random.randint(0,self.data[c_distractor].shape[0])\n",
        "                inputs[j,:] = self.data[c_distractor][idx,:].flatten()\n",
        "\n",
        "        sample = {'x': inputs, 'query': query, 'y': correct_pos}\n",
        "\n",
        "        return sample"
      ]
    },
    {
      "cell_type": "code",
      "execution_count": 4,
      "metadata": {
        "id": "hL2kwN-kpjUc",
        "colab": {
          "base_uri": "https://localhost:8080/"
        },
        "outputId": "0d396087-5857-4cc1-ba13-749042aad68f"
      },
      "outputs": [
        {
          "output_type": "stream",
          "name": "stderr",
          "text": [
            "100%|██████████| 9.91M/9.91M [00:00<00:00, 17.9MB/s]\n",
            "100%|██████████| 28.9k/28.9k [00:00<00:00, 481kB/s]\n",
            "100%|██████████| 1.65M/1.65M [00:00<00:00, 4.47MB/s]\n",
            "100%|██████████| 4.54k/4.54k [00:00<00:00, 10.2MB/s]\n"
          ]
        }
      ],
      "source": [
        "num_inputs = 10\n",
        "\n",
        "train_dataset = MNISTAttentionDataset(num_inputs, train=True)\n",
        "test_dataset = MNISTAttentionDataset(num_inputs, train=False)\n",
        "\n",
        "train_loader = DataLoader(train_dataset, batch_size = 64, shuffle = True)\n",
        "test_loader  = DataLoader(test_dataset, batch_size = 1000, shuffle = False)"
      ]
    },
    {
      "cell_type": "markdown",
      "metadata": {
        "id": "RES5R0CMr3bE"
      },
      "source": [
        "### Visualize one training sample"
      ]
    },
    {
      "cell_type": "code",
      "execution_count": 5,
      "metadata": {
        "colab": {
          "base_uri": "https://localhost:8080/",
          "height": 220
        },
        "id": "fJY6zR_lqR41",
        "outputId": "45f1252e-21c5-4017-cd60-021e7f8ce7bb"
      },
      "outputs": [
        {
          "output_type": "stream",
          "name": "stderr",
          "text": [
            "<ipython-input-3-949448a67f37>:46: DeprecationWarning: __array__ implementation doesn't accept a copy keyword, so passing copy=False failed. __array__ must implement 'dtype' and 'copy' keyword arguments.\n",
            "  inputs[j,:] = self.data[c_distractor][idx,:].flatten()\n",
            "<ipython-input-3-949448a67f37>:42: DeprecationWarning: __array__ implementation doesn't accept a copy keyword, so passing copy=False failed. __array__ must implement 'dtype' and 'copy' keyword arguments.\n",
            "  inputs[j,:] = self.data[(c+1)%10][idx,:].flatten()\n"
          ]
        },
        {
          "output_type": "stream",
          "name": "stdout",
          "text": [
            "Data: (10, 784), Query: torch.Size([784])\n"
          ]
        },
        {
          "output_type": "display_data",
          "data": {
            "text/plain": [
              "<Figure size 3300x300 with 11 Axes>"
            ],
            "image/png": "[encoded data removed]"
          },
          "metadata": {}
        }
      ],
      "source": [
        "sample = train_dataset[0]\n",
        "\n",
        "print(f\"Data: {sample['x'].shape}, Query: {sample['query'].shape}\")\n",
        "\n",
        "fig = plt.figure(figsize=(33, 3))\n",
        "plt.tight_layout()\n",
        "\n",
        "ax = plt.subplot(1, num_inputs + 1, 1)\n",
        "image = sample['query'].reshape(28,28)\n",
        "plt.imshow(image, cmap='gray')\n",
        "plt.plot([0,27,27,0,0], [0,0,27,27,0], c='b') # Draw a blue box around the query sample\n",
        "ax.set_title('Query')\n",
        "ax.axis('off')\n",
        "\n",
        "for i in range(num_inputs):\n",
        "    ax = plt.subplot(1, num_inputs + 1, i+2)\n",
        "    ax.set_title('Sample #{}'.format(i))\n",
        "    ax.axis('off')\n",
        "    image = sample['x'][i].reshape(28,28)\n",
        "    plt.imshow(image, cmap='gray')\n",
        "    if i == sample['y']:\n",
        "        plt.plot([0,27,27,0,0], [0,0,27,27,0], c='g') # Draw a green box around the correct sample\n",
        "        ax.set_title('Target')\n",
        "    else:\n",
        "        plt.plot([0,27,27,0,0], [0,0,27,27,0], c='r') # Draw a red box around the wrong sample\n",
        "        ax.set_title('Distractor #{}'.format(i))\n",
        "    ax.axis('off')\n",
        "\n",
        "plt.show()"
      ]
    },
    {
      "cell_type": "markdown",
      "metadata": {
        "id": "DVaMM-n2sFF6"
      },
      "source": [
        "### Create the model"
      ]
    },
    {
      "cell_type": "code",
      "execution_count": 6,
      "metadata": {
        "id": "BesD8B1BAW9u"
      },
      "outputs": [],
      "source": [
        "class AttentionModel(nn.Module):\n",
        "    def __init__(self, input_dim, num_inputs, hidden_dim):\n",
        "        super(AttentionModel, self).__init__()\n",
        "        self.hidden_dim = hidden_dim\n",
        "        self.num_inputs = num_inputs\n",
        "        self.input_dim  = input_dim\n",
        "\n",
        "        # Weights (Fully Connected layers)\n",
        "        self.fc_q = nn.Linear(input_dim, hidden_dim) # Query FC\n",
        "        self.fc_k = nn.Linear(input_dim, hidden_dim) # Keys FC. Here the input acts as the keys, and there is no value\n",
        "        self.fc_v = nn.Linear(hidden_dim, 1) # Values FC\n",
        "\n",
        "    def scoringAdditive(self, query, keys):\n",
        "        # Query is                                              (B X 1 X input_dim)\n",
        "        # Repeat (tile) the query so that it has the same size as the keys (input)\n",
        "        query = query.repeat(1, self.num_inputs, 1)           # (B X num_inputs X input_dim)\n",
        "        query = torch.tanh(self.fc_q(query))                  # (B X num_inputs X hidden_dim)\n",
        "\n",
        "        # Keys is                                               (B X num_inputs X input_dim)\n",
        "        keys = torch.tanh(self.fc_k(keys))                    # (B X num_inputs X hidden_dim)\n",
        "\n",
        "        # Attention Score\n",
        "        score = torch.tanh(query + keys )                     # (B X num_inputs X hidden_dim)\n",
        "        score = self.fc_v(score)                              # (B X num_inputs X 1)\n",
        "        return score\n",
        "\n",
        "    def forward(self, x, query):\n",
        "        query = query.unsqueeze(1) # (B x input_dim) -> (B x 1 x input_dim)\n",
        "\n",
        "        # Calculate attention scores\n",
        "        output = self.scoringAdditive(query, x)\n",
        "        output = output.squeeze()       # (B x 1 x num_inputs) -> (B x num_inputs)\n",
        "        return output"
      ]
    },
    {
      "cell_type": "markdown",
      "metadata": {
        "id": "y_yCyvgg9Pbj"
      },
      "source": [
        "<font color=\"blue\">\n",
        "\n",
        "**QUESTION**: The Additive score gives logits that we should pass through a softmax to get the final attention weights. Why is there no softmax in the model above?</font>"
      ]
    },
    {
      "cell_type": "markdown",
      "metadata": {
        "id": "uIWfyOB4nMSC"
      },
      "source": [
        "<font color=\"green\">\n",
        "    \n",
        "**ANSWER**: The loss function we use to train this is the `nn.CrossEntropyLoss()`. Although it is called \"CrossEntropy\" in reality it expects logits, and does the softmax and the cross entropy jointly. This is why we do not do softmax explicitly before.</font>"
      ]
    },
    {
      "cell_type": "code",
      "execution_count": 7,
      "metadata": {
        "colab": {
          "base_uri": "https://localhost:8080/"
        },
        "id": "nsyUZE0lHJ5-",
        "outputId": "8c7e2ea4-9071-494b-901f-0986e650a47c"
      },
      "outputs": [
        {
          "output_type": "stream",
          "name": "stdout",
          "text": [
            "AttentionModel(\n",
            "  (fc_q): Linear(in_features=784, out_features=256, bias=True)\n",
            "  (fc_k): Linear(in_features=784, out_features=256, bias=True)\n",
            "  (fc_v): Linear(in_features=256, out_features=1, bias=True)\n",
            ")\n"
          ]
        }
      ],
      "source": [
        "input_dim, num_inputs, hidden_dim = (784, 10, 256)\n",
        "\n",
        "model = AttentionModel(input_dim, num_inputs, hidden_dim)\n",
        "print(model)"
      ]
    },
    {
      "cell_type": "markdown",
      "metadata": {
        "id": "xmp0kuk2z3Rx"
      },
      "source": [
        "### Define the training method and train"
      ]
    },
    {
      "cell_type": "code",
      "execution_count": 8,
      "metadata": {
        "id": "6ZvGWqwDrc-V"
      },
      "outputs": [],
      "source": [
        "def train(model, device, train_loader, criterion, optimizer, epoch, log_interval = 100):\n",
        "    # Method to perform one epoch of training\n",
        "    model.train()\n",
        "    loss_values = []\n",
        "\n",
        "    for batch_idx, sample_batched in enumerate(train_loader):\n",
        "        data = sample_batched['x'].float()\n",
        "        query = sample_batched['query'].float()\n",
        "        target = sample_batched['y']\n",
        "        #print(data.shape, query.shape)\n",
        "        data, query, target = data.to(device), query.to(device), target.to(device)\n",
        "\n",
        "        optimizer.zero_grad()\n",
        "        output = model(data, query)\n",
        "        loss = criterion(output, target)\n",
        "        loss.backward()\n",
        "        optimizer.step()\n",
        "\n",
        "        loss_values.append(loss.detach().cpu().item())\n",
        "        if batch_idx % log_interval == 0:\n",
        "            print('Train Epoch: {} [{}/{} ({:.0f}%)]\\tLoss: {:.6f}'.format(\n",
        "                epoch, batch_idx * len(data), len(train_loader.dataset),\n",
        "                100. * batch_idx / len(train_loader), loss.item()))\n",
        "\n",
        "    return loss_values"
      ]
    },
    {
      "cell_type": "code",
      "execution_count": 9,
      "metadata": {
        "colab": {
          "base_uri": "https://localhost:8080/"
        },
        "id": "L_ZTvDKRz9yx",
        "outputId": "0ec8f0f6-c586-49f3-eb6a-6417d1e73626"
      },
      "outputs": [
        {
          "output_type": "stream",
          "name": "stderr",
          "text": [
            "<ipython-input-3-949448a67f37>:46: DeprecationWarning: __array__ implementation doesn't accept a copy keyword, so passing copy=False failed. __array__ must implement 'dtype' and 'copy' keyword arguments.\n",
            "  inputs[j,:] = self.data[c_distractor][idx,:].flatten()\n",
            "<ipython-input-3-949448a67f37>:42: DeprecationWarning: __array__ implementation doesn't accept a copy keyword, so passing copy=False failed. __array__ must implement 'dtype' and 'copy' keyword arguments.\n",
            "  inputs[j,:] = self.data[(c+1)%10][idx,:].flatten()\n"
          ]
        },
        {
          "output_type": "stream",
          "name": "stdout",
          "text": [
            "Train Epoch: 1 [0/60000 (0%)]\tLoss: 2.323496\n",
            "Train Epoch: 1 [6400/60000 (11%)]\tLoss: 1.746668\n",
            "Train Epoch: 1 [12800/60000 (21%)]\tLoss: 1.160723\n",
            "Train Epoch: 1 [19200/60000 (32%)]\tLoss: 0.703118\n",
            "Train Epoch: 1 [25600/60000 (43%)]\tLoss: 0.700564\n",
            "Train Epoch: 1 [32000/60000 (53%)]\tLoss: 0.659640\n",
            "Train Epoch: 1 [38400/60000 (64%)]\tLoss: 0.672008\n",
            "Train Epoch: 1 [44800/60000 (75%)]\tLoss: 0.613552\n",
            "Train Epoch: 1 [51200/60000 (85%)]\tLoss: 0.470871\n",
            "Train Epoch: 1 [57600/60000 (96%)]\tLoss: 0.406851\n",
            "Train Epoch: 2 [0/60000 (0%)]\tLoss: 0.490616\n",
            "Train Epoch: 2 [6400/60000 (11%)]\tLoss: 0.518722\n",
            "Train Epoch: 2 [12800/60000 (21%)]\tLoss: 0.555605\n",
            "Train Epoch: 2 [19200/60000 (32%)]\tLoss: 0.470546\n",
            "Train Epoch: 2 [25600/60000 (43%)]\tLoss: 0.304088\n",
            "Train Epoch: 2 [32000/60000 (53%)]\tLoss: 0.515653\n",
            "Train Epoch: 2 [38400/60000 (64%)]\tLoss: 0.421828\n",
            "Train Epoch: 2 [44800/60000 (75%)]\tLoss: 0.325103\n",
            "Train Epoch: 2 [51200/60000 (85%)]\tLoss: 0.281202\n",
            "Train Epoch: 2 [57600/60000 (96%)]\tLoss: 0.205235\n",
            "Train Epoch: 3 [0/60000 (0%)]\tLoss: 0.213288\n",
            "Train Epoch: 3 [6400/60000 (11%)]\tLoss: 0.309820\n",
            "Train Epoch: 3 [12800/60000 (21%)]\tLoss: 0.442686\n",
            "Train Epoch: 3 [19200/60000 (32%)]\tLoss: 0.509135\n",
            "Train Epoch: 3 [25600/60000 (43%)]\tLoss: 0.495999\n",
            "Train Epoch: 3 [32000/60000 (53%)]\tLoss: 0.439840\n",
            "Train Epoch: 3 [38400/60000 (64%)]\tLoss: 0.363720\n",
            "Train Epoch: 3 [44800/60000 (75%)]\tLoss: 0.467242\n",
            "Train Epoch: 3 [51200/60000 (85%)]\tLoss: 0.218328\n",
            "Train Epoch: 3 [57600/60000 (96%)]\tLoss: 0.415062\n",
            "Train Epoch: 4 [0/60000 (0%)]\tLoss: 0.258420\n",
            "Train Epoch: 4 [6400/60000 (11%)]\tLoss: 0.351818\n",
            "Train Epoch: 4 [12800/60000 (21%)]\tLoss: 0.256303\n",
            "Train Epoch: 4 [19200/60000 (32%)]\tLoss: 0.396564\n",
            "Train Epoch: 4 [25600/60000 (43%)]\tLoss: 0.340694\n",
            "Train Epoch: 4 [32000/60000 (53%)]\tLoss: 0.336708\n",
            "Train Epoch: 4 [38400/60000 (64%)]\tLoss: 0.503498\n",
            "Train Epoch: 4 [44800/60000 (75%)]\tLoss: 0.262302\n",
            "Train Epoch: 4 [51200/60000 (85%)]\tLoss: 0.391007\n",
            "Train Epoch: 4 [57600/60000 (96%)]\tLoss: 0.370423\n",
            "Train Epoch: 5 [0/60000 (0%)]\tLoss: 0.404583\n",
            "Train Epoch: 5 [6400/60000 (11%)]\tLoss: 0.387908\n",
            "Train Epoch: 5 [12800/60000 (21%)]\tLoss: 0.308205\n",
            "Train Epoch: 5 [19200/60000 (32%)]\tLoss: 0.400459\n",
            "Train Epoch: 5 [25600/60000 (43%)]\tLoss: 0.369805\n",
            "Train Epoch: 5 [32000/60000 (53%)]\tLoss: 0.193142\n",
            "Train Epoch: 5 [38400/60000 (64%)]\tLoss: 0.292349\n",
            "Train Epoch: 5 [44800/60000 (75%)]\tLoss: 0.268519\n",
            "Train Epoch: 5 [51200/60000 (85%)]\tLoss: 0.188266\n",
            "Train Epoch: 5 [57600/60000 (96%)]\tLoss: 0.153089\n",
            "Train Epoch: 6 [0/60000 (0%)]\tLoss: 0.239832\n",
            "Train Epoch: 6 [6400/60000 (11%)]\tLoss: 0.295359\n",
            "Train Epoch: 6 [12800/60000 (21%)]\tLoss: 0.239342\n",
            "Train Epoch: 6 [19200/60000 (32%)]\tLoss: 0.322138\n",
            "Train Epoch: 6 [25600/60000 (43%)]\tLoss: 0.285844\n",
            "Train Epoch: 6 [32000/60000 (53%)]\tLoss: 0.300547\n",
            "Train Epoch: 6 [38400/60000 (64%)]\tLoss: 0.223342\n",
            "Train Epoch: 6 [44800/60000 (75%)]\tLoss: 0.233869\n",
            "Train Epoch: 6 [51200/60000 (85%)]\tLoss: 0.248774\n",
            "Train Epoch: 6 [57600/60000 (96%)]\tLoss: 0.453551\n",
            "Train Epoch: 7 [0/60000 (0%)]\tLoss: 0.171856\n",
            "Train Epoch: 7 [6400/60000 (11%)]\tLoss: 0.137933\n",
            "Train Epoch: 7 [12800/60000 (21%)]\tLoss: 0.205321\n",
            "Train Epoch: 7 [19200/60000 (32%)]\tLoss: 0.212185\n",
            "Train Epoch: 7 [25600/60000 (43%)]\tLoss: 0.186648\n",
            "Train Epoch: 7 [32000/60000 (53%)]\tLoss: 0.220001\n",
            "Train Epoch: 7 [38400/60000 (64%)]\tLoss: 0.255807\n",
            "Train Epoch: 7 [44800/60000 (75%)]\tLoss: 0.243722\n",
            "Train Epoch: 7 [51200/60000 (85%)]\tLoss: 0.260236\n",
            "Train Epoch: 7 [57600/60000 (96%)]\tLoss: 0.160911\n",
            "Train Epoch: 8 [0/60000 (0%)]\tLoss: 0.221249\n",
            "Train Epoch: 8 [6400/60000 (11%)]\tLoss: 0.206289\n",
            "Train Epoch: 8 [12800/60000 (21%)]\tLoss: 0.391288\n",
            "Train Epoch: 8 [19200/60000 (32%)]\tLoss: 0.258470\n",
            "Train Epoch: 8 [25600/60000 (43%)]\tLoss: 0.168344\n",
            "Train Epoch: 8 [32000/60000 (53%)]\tLoss: 0.207606\n",
            "Train Epoch: 8 [38400/60000 (64%)]\tLoss: 0.147017\n",
            "Train Epoch: 8 [44800/60000 (75%)]\tLoss: 0.247730\n",
            "Train Epoch: 8 [51200/60000 (85%)]\tLoss: 0.145068\n",
            "Train Epoch: 8 [57600/60000 (96%)]\tLoss: 0.282268\n",
            "Train Epoch: 9 [0/60000 (0%)]\tLoss: 0.260158\n",
            "Train Epoch: 9 [6400/60000 (11%)]\tLoss: 0.321514\n",
            "Train Epoch: 9 [12800/60000 (21%)]\tLoss: 0.193194\n",
            "Train Epoch: 9 [19200/60000 (32%)]\tLoss: 0.294923\n",
            "Train Epoch: 9 [25600/60000 (43%)]\tLoss: 0.287796\n",
            "Train Epoch: 9 [32000/60000 (53%)]\tLoss: 0.217154\n",
            "Train Epoch: 9 [38400/60000 (64%)]\tLoss: 0.258713\n",
            "Train Epoch: 9 [44800/60000 (75%)]\tLoss: 0.157065\n",
            "Train Epoch: 9 [51200/60000 (85%)]\tLoss: 0.076091\n",
            "Train Epoch: 9 [57600/60000 (96%)]\tLoss: 0.096134\n",
            "Train Epoch: 10 [0/60000 (0%)]\tLoss: 0.210411\n",
            "Train Epoch: 10 [6400/60000 (11%)]\tLoss: 0.253157\n",
            "Train Epoch: 10 [12800/60000 (21%)]\tLoss: 0.155123\n",
            "Train Epoch: 10 [19200/60000 (32%)]\tLoss: 0.169842\n",
            "Train Epoch: 10 [25600/60000 (43%)]\tLoss: 0.176976\n",
            "Train Epoch: 10 [32000/60000 (53%)]\tLoss: 0.171205\n",
            "Train Epoch: 10 [38400/60000 (64%)]\tLoss: 0.144944\n",
            "Train Epoch: 10 [44800/60000 (75%)]\tLoss: 0.148327\n",
            "Train Epoch: 10 [51200/60000 (85%)]\tLoss: 0.193719\n",
            "Train Epoch: 10 [57600/60000 (96%)]\tLoss: 0.282036\n"
          ]
        }
      ],
      "source": [
        "model = model.to(device)\n",
        "\n",
        "optimizer = optim.Adam(model.parameters())\n",
        "\n",
        "criterion = nn.CrossEntropyLoss()\n",
        "\n",
        "epochs = 10\n",
        "\n",
        "loss_history = []\n",
        "for epoch in range(1, epochs + 1):\n",
        "    loss_values = train(model, device, train_loader, criterion, optimizer, epoch)\n",
        "    loss_history += loss_values"
      ]
    },
    {
      "cell_type": "code",
      "execution_count": 10,
      "metadata": {
        "colab": {
          "base_uri": "https://localhost:8080/",
          "height": 448
        },
        "id": "V1VFBe_Y0Cxx",
        "outputId": "74398dae-4e6e-4174-89e4-da2b1c4c074f"
      },
      "outputs": [
        {
          "output_type": "execute_result",
          "data": {
            "text/plain": [
              "[<matplotlib.lines.Line2D at 0x7e3489aafad0>]"
            ]
          },
          "metadata": {},
          "execution_count": 10
        },
        {
          "output_type": "display_data",
          "data": {
            "text/plain": [
              "<Figure size 640x480 with 1 Axes>"
            ],
            "image/png": "[encoded data removed]"
          },
          "metadata": {}
        }
      ],
      "source": [
        "plt.plot(loss_history)"
      ]
    },
    {
      "cell_type": "markdown",
      "metadata": {
        "id": "jONlgxyaEwC6"
      },
      "source": [
        "### Evaluate the trained model"
      ]
    },
    {
      "cell_type": "code",
      "execution_count": 11,
      "metadata": {
        "id": "izgtCdk5DV01"
      },
      "outputs": [],
      "source": [
        "def evaluate(model, device, test_loader):\n",
        "    model.eval()\n",
        "    total = 0.\n",
        "    ok = 0.\n",
        "    for batch_idx, sample_batched in enumerate(test_loader):\n",
        "        data = sample_batched['x'].float()\n",
        "        query = sample_batched['query'].float()\n",
        "        target = sample_batched['y'].numpy()\n",
        "        data, query = data.to(device), query.to(device)\n",
        "\n",
        "        output = model(data, query)\n",
        "        pred = np.argmax(output.detach().cpu().numpy(), axis=1)\n",
        "\n",
        "        ok += np.sum(pred == target)\n",
        "        total += len(test_loader)\n",
        "\n",
        "    print('Accuracy = ', ok/total)"
      ]
    },
    {
      "cell_type": "code",
      "execution_count": 12,
      "metadata": {
        "colab": {
          "base_uri": "https://localhost:8080/"
        },
        "id": "JYQGuAXpGNU7",
        "outputId": "0b2d6999-6ac0-4485-d2a5-7027d357e149"
      },
      "outputs": [
        {
          "output_type": "stream",
          "name": "stderr",
          "text": [
            "<ipython-input-3-949448a67f37>:46: DeprecationWarning: __array__ implementation doesn't accept a copy keyword, so passing copy=False failed. __array__ must implement 'dtype' and 'copy' keyword arguments.\n",
            "  inputs[j,:] = self.data[c_distractor][idx,:].flatten()\n",
            "<ipython-input-3-949448a67f37>:42: DeprecationWarning: __array__ implementation doesn't accept a copy keyword, so passing copy=False failed. __array__ must implement 'dtype' and 'copy' keyword arguments.\n",
            "  inputs[j,:] = self.data[(c+1)%10][idx,:].flatten()\n"
          ]
        },
        {
          "output_type": "stream",
          "name": "stdout",
          "text": [
            "Accuracy =  92.01\n"
          ]
        }
      ],
      "source": [
        "evaluate(model, device, test_loader)"
      ]
    },
    {
      "cell_type": "markdown",
      "metadata": {
        "id": "CaOoDxjhhjxz"
      },
      "source": [
        "<font color=\"blue\">\n",
        "\n",
        "**EXERCISE 1**: Starting from the previous model as a template, implement the Dot-product Attention scoring function and substitute the additive one we were using before. Retrain and evalute the model.</font>\n",
        "\n",
        "<font color=\"blue\">\n",
        "\n",
        "> Hint: To transpose a tensor along specific dimensions you can use `torch.permute()`\n",
        "</font>\n",
        "\n",
        "\n",
        "<font color=\"blue\">\n",
        "\n",
        "> Hint: To perform a batch matrix-matrix product, use the function `torch.bmm()` https://pytorch.org/docs/stable/generated/torch.bmm.html\n",
        "</font>"
      ]
    },
    {
      "cell_type": "code",
      "execution_count": 13,
      "metadata": {
        "id": "9nabmseonMSD"
      },
      "outputs": [],
      "source": [
        "# YOUR CODE HERE\n"
      ]
    },
    {
      "cell_type": "code",
      "execution_count": 14,
      "metadata": {
        "id": "Mb9fpvTqGSob"
      },
      "outputs": [],
      "source": [
        "# SOLUTION\n",
        "\n",
        "class AttentionModel_Dot(nn.Module):\n",
        "    def __init__(self, input_dim, num_inputs, hidden_dim):\n",
        "        super(AttentionModel_Dot, self).__init__()\n",
        "        self.hidden_dim = hidden_dim\n",
        "        self.num_inputs = num_inputs\n",
        "        self.input_dim  = input_dim\n",
        "\n",
        "        # Weights (Fully Connected layers)\n",
        "        self.fc_q = nn.Linear(input_dim, hidden_dim) # Query FC\n",
        "        self.fc_k = nn.Linear(input_dim, hidden_dim) # Keys FC. Here the input acts as the keys, and there is no value\n",
        "        self.fc_v = nn.Linear(hidden_dim, 1) # Values FC\n",
        "\n",
        "    def scoringAdditive(self, query, keys):\n",
        "        # Query is                                              (B X 1 X input_dim)\n",
        "        # Repeat (tile) the query so that it has the same size as the keys (input)\n",
        "        query = query.repeat(1, self.num_inputs, 1)           # (B X num_inputs X input_dim)\n",
        "        query = torch.tanh(self.fc_q(query))                  # (B X num_inputs X hidden_dim)\n",
        "\n",
        "        #Keys is                                                (B X num_inputs X input_dim)\n",
        "        keys = torch.tanh(self.fc_k(keys))                    # (B X num_inputs X hidden_dim)\n",
        "\n",
        "        # Attention Score\n",
        "        score = torch.tanh(query + keys )                     # (B X num_inputs X hidden_dim)\n",
        "        score = self.fc_v(score)                              # (B X num_inputs X 1)\n",
        "        return score\n",
        "\n",
        "    def scoringDot(self, query, keys):\n",
        "        # Query is                                              (B X 1 X input_dim)\n",
        "        query = torch.tanh(self.fc_q(query))                  # (B X 1 X hidden_dim)\n",
        "\n",
        "        # Keys is                                               (B X num_inputs X input_dim)\n",
        "        keys = torch.tanh(self.fc_k(keys))                    # (B X num_inputs X hidden_dim)\n",
        "\n",
        "        # Attention Score\n",
        "        keys = keys.permute(0,2,1)                            # (B X hidden_dim X num_inputs)\n",
        "        score = torch.bmm(query, keys)                        # (B X 1 X num_inputs)\n",
        "        score /= np.sqrt(num_inputs)\n",
        "        score = score.permute(0,2,1)                          # (B X num_inputs x 1)\n",
        "        return score\n",
        "\n",
        "    def forward(self, x, query):\n",
        "        query = query.unsqueeze(1) # (B x input_dim) -> (B x 1 x input_dim)\n",
        "\n",
        "        # Calculate attention scores\n",
        "        output = self.scoringDot(query, x)\n",
        "        output = output.squeeze()       # (B x 1 x num_inputs) -> (B x num_inputs)\n",
        "        return output"
      ]
    },
    {
      "cell_type": "code",
      "execution_count": 15,
      "metadata": {
        "colab": {
          "base_uri": "https://localhost:8080/"
        },
        "id": "nnrkJiW9mbmt",
        "outputId": "5836987d-b144-444c-9538-4493a17a85fc"
      },
      "outputs": [
        {
          "output_type": "stream",
          "name": "stdout",
          "text": [
            "AttentionModel_Dot(\n",
            "  (fc_q): Linear(in_features=784, out_features=256, bias=True)\n",
            "  (fc_k): Linear(in_features=784, out_features=256, bias=True)\n",
            "  (fc_v): Linear(in_features=256, out_features=1, bias=True)\n",
            ")\n"
          ]
        }
      ],
      "source": [
        "# SOLUTION (cont)\n",
        "\n",
        "input_dim, num_inputs, hidden_dim = (784, 10, 256)\n",
        "\n",
        "modelDot = AttentionModel_Dot(input_dim, num_inputs, hidden_dim)\n",
        "print(modelDot)"
      ]
    },
    {
      "cell_type": "code",
      "execution_count": 16,
      "metadata": {
        "colab": {
          "base_uri": "https://localhost:8080/"
        },
        "id": "P5tl4ZS3mrjb",
        "outputId": "1130bca2-619c-426f-a1ce-941f0bc80a01"
      },
      "outputs": [
        {
          "output_type": "stream",
          "name": "stdout",
          "text": [
            "Train Epoch: 1 [0/60000 (0%)]\tLoss: 2.311312\n"
          ]
        },
        {
          "output_type": "stream",
          "name": "stderr",
          "text": [
            "<ipython-input-3-949448a67f37>:42: DeprecationWarning: __array__ implementation doesn't accept a copy keyword, so passing copy=False failed. __array__ must implement 'dtype' and 'copy' keyword arguments.\n",
            "  inputs[j,:] = self.data[(c+1)%10][idx,:].flatten()\n",
            "<ipython-input-3-949448a67f37>:46: DeprecationWarning: __array__ implementation doesn't accept a copy keyword, so passing copy=False failed. __array__ must implement 'dtype' and 'copy' keyword arguments.\n",
            "  inputs[j,:] = self.data[c_distractor][idx,:].flatten()\n"
          ]
        },
        {
          "output_type": "stream",
          "name": "stdout",
          "text": [
            "Train Epoch: 1 [6400/60000 (11%)]\tLoss: 0.888986\n",
            "Train Epoch: 1 [12800/60000 (21%)]\tLoss: 1.085192\n",
            "Train Epoch: 1 [19200/60000 (32%)]\tLoss: 0.498677\n",
            "Train Epoch: 1 [25600/60000 (43%)]\tLoss: 0.705745\n",
            "Train Epoch: 1 [32000/60000 (53%)]\tLoss: 0.607845\n",
            "Train Epoch: 1 [38400/60000 (64%)]\tLoss: 0.497531\n",
            "Train Epoch: 1 [44800/60000 (75%)]\tLoss: 0.626899\n",
            "Train Epoch: 1 [51200/60000 (85%)]\tLoss: 0.630962\n",
            "Train Epoch: 1 [57600/60000 (96%)]\tLoss: 0.347450\n",
            "Train Epoch: 2 [0/60000 (0%)]\tLoss: 0.554107\n",
            "Train Epoch: 2 [6400/60000 (11%)]\tLoss: 0.573408\n",
            "Train Epoch: 2 [12800/60000 (21%)]\tLoss: 0.437436\n",
            "Train Epoch: 2 [19200/60000 (32%)]\tLoss: 0.489943\n",
            "Train Epoch: 2 [25600/60000 (43%)]\tLoss: 0.316513\n",
            "Train Epoch: 2 [32000/60000 (53%)]\tLoss: 0.424439\n",
            "Train Epoch: 2 [38400/60000 (64%)]\tLoss: 0.176274\n",
            "Train Epoch: 2 [44800/60000 (75%)]\tLoss: 0.365373\n",
            "Train Epoch: 2 [51200/60000 (85%)]\tLoss: 0.199968\n",
            "Train Epoch: 2 [57600/60000 (96%)]\tLoss: 0.688116\n",
            "Train Epoch: 3 [0/60000 (0%)]\tLoss: 0.420478\n",
            "Train Epoch: 3 [6400/60000 (11%)]\tLoss: 0.306722\n",
            "Train Epoch: 3 [12800/60000 (21%)]\tLoss: 0.226351\n",
            "Train Epoch: 3 [19200/60000 (32%)]\tLoss: 0.286431\n",
            "Train Epoch: 3 [25600/60000 (43%)]\tLoss: 0.166257\n",
            "Train Epoch: 3 [32000/60000 (53%)]\tLoss: 0.266074\n",
            "Train Epoch: 3 [38400/60000 (64%)]\tLoss: 0.286725\n",
            "Train Epoch: 3 [44800/60000 (75%)]\tLoss: 0.516245\n",
            "Train Epoch: 3 [51200/60000 (85%)]\tLoss: 0.117013\n",
            "Train Epoch: 3 [57600/60000 (96%)]\tLoss: 0.278879\n",
            "Train Epoch: 4 [0/60000 (0%)]\tLoss: 0.261593\n",
            "Train Epoch: 4 [6400/60000 (11%)]\tLoss: 0.119048\n",
            "Train Epoch: 4 [12800/60000 (21%)]\tLoss: 0.259627\n",
            "Train Epoch: 4 [19200/60000 (32%)]\tLoss: 0.283768\n",
            "Train Epoch: 4 [25600/60000 (43%)]\tLoss: 0.230121\n",
            "Train Epoch: 4 [32000/60000 (53%)]\tLoss: 0.229718\n",
            "Train Epoch: 4 [38400/60000 (64%)]\tLoss: 0.120868\n",
            "Train Epoch: 4 [44800/60000 (75%)]\tLoss: 0.248597\n",
            "Train Epoch: 4 [51200/60000 (85%)]\tLoss: 0.301049\n",
            "Train Epoch: 4 [57600/60000 (96%)]\tLoss: 0.313863\n",
            "Train Epoch: 5 [0/60000 (0%)]\tLoss: 0.117659\n",
            "Train Epoch: 5 [6400/60000 (11%)]\tLoss: 0.202898\n",
            "Train Epoch: 5 [12800/60000 (21%)]\tLoss: 0.414248\n",
            "Train Epoch: 5 [19200/60000 (32%)]\tLoss: 0.304771\n",
            "Train Epoch: 5 [25600/60000 (43%)]\tLoss: 0.287053\n",
            "Train Epoch: 5 [32000/60000 (53%)]\tLoss: 0.098770\n",
            "Train Epoch: 5 [38400/60000 (64%)]\tLoss: 0.316942\n",
            "Train Epoch: 5 [44800/60000 (75%)]\tLoss: 0.133559\n",
            "Train Epoch: 5 [51200/60000 (85%)]\tLoss: 0.163458\n",
            "Train Epoch: 5 [57600/60000 (96%)]\tLoss: 0.080921\n",
            "Train Epoch: 6 [0/60000 (0%)]\tLoss: 0.172549\n",
            "Train Epoch: 6 [6400/60000 (11%)]\tLoss: 0.216630\n",
            "Train Epoch: 6 [12800/60000 (21%)]\tLoss: 0.139843\n",
            "Train Epoch: 6 [19200/60000 (32%)]\tLoss: 0.359779\n",
            "Train Epoch: 6 [25600/60000 (43%)]\tLoss: 0.259449\n",
            "Train Epoch: 6 [32000/60000 (53%)]\tLoss: 0.143632\n",
            "Train Epoch: 6 [38400/60000 (64%)]\tLoss: 0.089827\n",
            "Train Epoch: 6 [44800/60000 (75%)]\tLoss: 0.061112\n",
            "Train Epoch: 6 [51200/60000 (85%)]\tLoss: 0.122095\n",
            "Train Epoch: 6 [57600/60000 (96%)]\tLoss: 0.144465\n",
            "Train Epoch: 7 [0/60000 (0%)]\tLoss: 0.246402\n",
            "Train Epoch: 7 [6400/60000 (11%)]\tLoss: 0.282083\n",
            "Train Epoch: 7 [12800/60000 (21%)]\tLoss: 0.173221\n",
            "Train Epoch: 7 [19200/60000 (32%)]\tLoss: 0.045695\n",
            "Train Epoch: 7 [25600/60000 (43%)]\tLoss: 0.209610\n",
            "Train Epoch: 7 [32000/60000 (53%)]\tLoss: 0.149593\n",
            "Train Epoch: 7 [38400/60000 (64%)]\tLoss: 0.116147\n",
            "Train Epoch: 7 [44800/60000 (75%)]\tLoss: 0.141230\n",
            "Train Epoch: 7 [51200/60000 (85%)]\tLoss: 0.153684\n",
            "Train Epoch: 7 [57600/60000 (96%)]\tLoss: 0.156298\n",
            "Train Epoch: 8 [0/60000 (0%)]\tLoss: 0.276588\n",
            "Train Epoch: 8 [6400/60000 (11%)]\tLoss: 0.089138\n",
            "Train Epoch: 8 [12800/60000 (21%)]\tLoss: 0.266679\n",
            "Train Epoch: 8 [19200/60000 (32%)]\tLoss: 0.130888\n",
            "Train Epoch: 8 [25600/60000 (43%)]\tLoss: 0.128888\n",
            "Train Epoch: 8 [32000/60000 (53%)]\tLoss: 0.332704\n",
            "Train Epoch: 8 [38400/60000 (64%)]\tLoss: 0.143636\n",
            "Train Epoch: 8 [44800/60000 (75%)]\tLoss: 0.220004\n",
            "Train Epoch: 8 [51200/60000 (85%)]\tLoss: 0.240998\n",
            "Train Epoch: 8 [57600/60000 (96%)]\tLoss: 0.129569\n",
            "Train Epoch: 9 [0/60000 (0%)]\tLoss: 0.203915\n",
            "Train Epoch: 9 [6400/60000 (11%)]\tLoss: 0.194406\n",
            "Train Epoch: 9 [12800/60000 (21%)]\tLoss: 0.049198\n",
            "Train Epoch: 9 [19200/60000 (32%)]\tLoss: 0.097480\n",
            "Train Epoch: 9 [25600/60000 (43%)]\tLoss: 0.235477\n",
            "Train Epoch: 9 [32000/60000 (53%)]\tLoss: 0.155375\n",
            "Train Epoch: 9 [38400/60000 (64%)]\tLoss: 0.116029\n",
            "Train Epoch: 9 [44800/60000 (75%)]\tLoss: 0.194829\n",
            "Train Epoch: 9 [51200/60000 (85%)]\tLoss: 0.180183\n",
            "Train Epoch: 9 [57600/60000 (96%)]\tLoss: 0.187581\n",
            "Train Epoch: 10 [0/60000 (0%)]\tLoss: 0.316574\n",
            "Train Epoch: 10 [6400/60000 (11%)]\tLoss: 0.349826\n",
            "Train Epoch: 10 [12800/60000 (21%)]\tLoss: 0.179538\n",
            "Train Epoch: 10 [19200/60000 (32%)]\tLoss: 0.048310\n",
            "Train Epoch: 10 [25600/60000 (43%)]\tLoss: 0.186789\n",
            "Train Epoch: 10 [32000/60000 (53%)]\tLoss: 0.138516\n",
            "Train Epoch: 10 [38400/60000 (64%)]\tLoss: 0.132016\n",
            "Train Epoch: 10 [44800/60000 (75%)]\tLoss: 0.064093\n",
            "Train Epoch: 10 [51200/60000 (85%)]\tLoss: 0.289619\n",
            "Train Epoch: 10 [57600/60000 (96%)]\tLoss: 0.069535\n"
          ]
        }
      ],
      "source": [
        "# SOLUTION (cont)\n",
        "\n",
        "modelDot = modelDot.to(device)\n",
        "\n",
        "optimizer = optim.Adam(modelDot.parameters())\n",
        "\n",
        "criterion = nn.CrossEntropyLoss()\n",
        "\n",
        "epochs = 10\n",
        "\n",
        "loss_history = []\n",
        "for epoch in range(1, epochs + 1):\n",
        "    loss_values = train(modelDot, device, train_loader, criterion, optimizer, epoch)\n",
        "    loss_history += loss_values"
      ]
    },
    {
      "cell_type": "code",
      "execution_count": 17,
      "metadata": {
        "colab": {
          "base_uri": "https://localhost:8080/"
        },
        "id": "qVzwDR8Sq5yu",
        "outputId": "61bdd9d4-9754-4441-8b9b-32980d80a2a0"
      },
      "outputs": [
        {
          "output_type": "stream",
          "name": "stderr",
          "text": [
            "<ipython-input-3-949448a67f37>:46: DeprecationWarning: __array__ implementation doesn't accept a copy keyword, so passing copy=False failed. __array__ must implement 'dtype' and 'copy' keyword arguments.\n",
            "  inputs[j,:] = self.data[c_distractor][idx,:].flatten()\n",
            "<ipython-input-3-949448a67f37>:42: DeprecationWarning: __array__ implementation doesn't accept a copy keyword, so passing copy=False failed. __array__ must implement 'dtype' and 'copy' keyword arguments.\n",
            "  inputs[j,:] = self.data[(c+1)%10][idx,:].flatten()\n"
          ]
        },
        {
          "output_type": "stream",
          "name": "stdout",
          "text": [
            "Accuracy =  94.9\n"
          ]
        }
      ],
      "source": [
        "# SOLUTION (cont)\n",
        "\n",
        "evaluate(modelDot, device, test_loader)"
      ]
    },
    {
      "cell_type": "code",
      "execution_count": 18,
      "metadata": {
        "colab": {
          "base_uri": "https://localhost:8080/",
          "height": 448
        },
        "id": "thoAh6pI93hs",
        "outputId": "99fbb872-a4be-4b22-b69e-56777f1f4f9c"
      },
      "outputs": [
        {
          "output_type": "execute_result",
          "data": {
            "text/plain": [
              "[<matplotlib.lines.Line2D at 0x7e348968de10>]"
            ]
          },
          "metadata": {},
          "execution_count": 18
        },
        {
          "output_type": "display_data",
          "data": {
            "text/plain": [
              "<Figure size 640x480 with 1 Axes>"
            ],
            "image/png": "[encoded data removed]"
          },
          "metadata": {}
        }
      ],
      "source": [
        "# SOLUTION (cont)\n",
        "\n",
        "plt.plot(loss_history)"
      ]
    }
  ],
  "metadata": {
    "accelerator": "GPU",
    "colab": {
      "provenance": [],
      "toc_visible": true
    },
    "kernelspec": {
      "display_name": "pytorch",
      "language": "python",
      "name": "pytorch"
    },
    "language_info": {
      "codemirror_mode": {
        "name": "ipython",
        "version": 3
      },
      "file_extension": ".py",
      "mimetype": "text/x-python",
      "name": "python",
      "nbconvert_exporter": "python",
      "pygments_lexer": "ipython3",
      "version": "3.9.16"
    }
  },
  "nbformat": 4,
  "nbformat_minor": 0
}